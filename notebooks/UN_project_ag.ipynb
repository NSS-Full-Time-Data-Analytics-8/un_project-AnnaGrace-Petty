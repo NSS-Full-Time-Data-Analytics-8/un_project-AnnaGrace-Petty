{
 "cells": [
  {
   "cell_type": "code",
   "execution_count": null,
   "id": "13d746c2",
   "metadata": {},
   "outputs": [],
   "source": [
    "#step 3\n",
    "import pandas as pd   \n",
    "import numpy as np  \n",
    "import matplotlib.pyplot as plt  \n",
    "import seaborn as sns"
   ]
  },
  {
   "cell_type": "code",
   "execution_count": null,
   "id": "db96c36c",
   "metadata": {},
   "outputs": [],
   "source": [
    "#step 4\n",
    "# to show us the ploots without having to call them\n",
    "%matplotlib inline"
   ]
  },
  {
   "cell_type": "code",
   "execution_count": null,
   "id": "6892581c",
   "metadata": {},
   "outputs": [],
   "source": [
    "#step 5\n",
    "# to import a dataframe\n",
    "gdp_df = pd.read_csv('../data/gdp_percapita.csv')\n",
    "gdp_df.head(6)"
   ]
  },
  {
   "cell_type": "markdown",
   "id": "49342c4a",
   "metadata": {},
   "source": [
    "Country or Area Year Value Value Footnotes\n",
    "    \n",
    "0\tAfghanistan\t        2020\t1970.560169\t     NaN\n",
    "\n",
    "1\tAfghanistan\t        2019\t2065.036235\t     NaN\n",
    "\n",
    "2\tAfghanistan\t        2018\t2033.804389\t     NaN\n",
    "\n",
    "3\tAfghanistan\t        2017\t2058.400221\t     NaN\n",
    "\n",
    "4\tAfghanistan\t        2016\t2057.067978\t     NaN\n",
    "\n",
    "5\tAfghanistan\t        2015\t2068.265904\t     NaN\n",
    "​"
   ]
  },
  {
   "cell_type": "code",
   "execution_count": null,
   "id": "632d360b",
   "metadata": {},
   "outputs": [],
   "source": [
    "#step 6\n",
    "# to import a dataframe\n",
    "# nrows will limit the rows used since our original file had multiple dataframes within it\n",
    "internet_df = pd.read_csv('../data/internet_use.csv', nrows=4468)\n",
    "internet_df.head(6)"
   ]
  },
  {
   "cell_type": "markdown",
   "id": "bd2ec323",
   "metadata": {},
   "source": [
    "\n",
    "Country or Area\tYear\tValue\tValue Footnotes\n",
    "\n",
    "0\tAfghanistan\t2014\t6.390000\tNaN\n",
    "\n",
    "1\tAfghanistan\t2013\t5.900000\tNaN\n",
    "\n",
    "2\tAfghanistan\t2012\t5.454545\tNaN\n",
    "\n",
    "3\tAfghanistan\t2011\t5.000000\tNaN\n",
    "\n",
    "4\tAfghanistan\t2010\t4.000000\tNaN\n",
    "\n",
    "5\tAfghanistan\t2009\t3.550000\tNaN"
   ]
  },
  {
   "cell_type": "code",
   "execution_count": null,
   "id": "38f6eea4",
   "metadata": {},
   "outputs": [],
   "source": [
    "#step 7\n",
    "# to find the rows and columns of the gdp dataframe\n",
    "gdp_df.shape"
   ]
  },
  {
   "cell_type": "markdown",
   "id": "2cba79b3",
   "metadata": {},
   "source": [
    "(7176, 4)"
   ]
  },
  {
   "cell_type": "code",
   "execution_count": null,
   "id": "dc6b2158",
   "metadata": {},
   "outputs": [],
   "source": [
    "#step 7\n",
    "# to find the rows and columns of the internet dataframe\n",
    "internet_df.shape"
   ]
  },
  {
   "cell_type": "markdown",
   "id": "314f2f34",
   "metadata": {},
   "source": [
    "(4468, 4)"
   ]
  },
  {
   "cell_type": "code",
   "execution_count": null,
   "id": "195ff554",
   "metadata": {},
   "outputs": [],
   "source": [
    "#step 8\n",
    "# the datatypes for the columns\n",
    "gdp_df.dtypes"
   ]
  },
  {
   "cell_type": "markdown",
   "id": "5366f83d",
   "metadata": {},
   "source": [
    "Country or Area     object\n",
    "\n",
    "Year                 int64\n",
    "\n",
    "Value              float64\n",
    "\n",
    "Value Footnotes    float64\n",
    "\n",
    "dtype: object"
   ]
  },
  {
   "cell_type": "code",
   "execution_count": null,
   "id": "e58ced63",
   "metadata": {},
   "outputs": [],
   "source": [
    "#step 8\n",
    "# the datatypes of the columns\n",
    "internet_df.dtypes"
   ]
  },
  {
   "cell_type": "markdown",
   "id": "1e3d97a2",
   "metadata": {},
   "source": [
    "Country or Area     object\n",
    "\n",
    "Year                 int64\n",
    "\n",
    "Value              float64\n",
    "\n",
    "Value Footnotes    float64\n",
    "\n",
    "dtype: object"
   ]
  },
  {
   "cell_type": "code",
   "execution_count": null,
   "id": "e676b9e6",
   "metadata": {},
   "outputs": [],
   "source": [
    "#step 9\n",
    "# the last 10 rows of the dataframe\n",
    "gdp_df.tail(10)"
   ]
  },
  {
   "cell_type": "markdown",
   "id": "cce24db1",
   "metadata": {},
   "source": [
    "Country or Area\tYear\tValue\tValue Footnotes\n",
    "\n",
    "7166\tZimbabwe\t1999\t2872.714795\tNaN\n",
    "\n",
    "7167\tZimbabwe\t1998\t2915.052992\tNaN\n",
    "\n",
    "7168\tZimbabwe\t1997\t2856.118188\tNaN\n",
    "\n",
    "7169\tZimbabwe\t1996\t2808.558556\tNaN\n",
    "\n",
    "7170\tZimbabwe\t1995\t2573.993785\tNaN\n",
    "\n",
    "7171\tZimbabwe\t1994\t2603.927369\tNaN\n",
    "\n",
    "7172\tZimbabwe\t1993\t2420.092791\tNaN\n",
    "\n",
    "7173\tZimbabwe\t1992\t2437.152908\tNaN\n",
    "\n",
    "7174\tZimbabwe\t1991\t2733.696626\tNaN\n",
    "\n",
    "7175\tZimbabwe\t1990\t2652.129209\tNaN"
   ]
  },
  {
   "cell_type": "code",
   "execution_count": null,
   "id": "5dbdb623",
   "metadata": {},
   "outputs": [],
   "source": [
    "#step 9\n",
    "# the last 10 rows of the dataframe\n",
    "internet_df.tail(10)"
   ]
  },
  {
   "cell_type": "markdown",
   "id": "266c6dd3",
   "metadata": {},
   "source": [
    "\tCountry or Area\tYear\tValue\tValue Footnotes\n",
    "\n",
    "4458\tZambia\t2007\t4.870000\tNaN\n",
    "\n",
    "4459\tZambia\t2006\t4.159913\tNaN\n",
    "\n",
    "4460\tZambia\t2005\t2.851752\tNaN\n",
    "\n",
    "4461\tZambia\t2004\t2.013550\tNaN\n",
    "\n",
    "4462\tZambia\t2003\t0.980483\tNaN\n",
    "\n",
    "4463\tZambia\t2002\t0.477751\tNaN\n",
    "\n",
    "4464\tZambia\t2001\t0.233130\tNaN\n",
    "\n",
    "4465\tZambia\t2000\t0.191072\tNaN\n",
    "\n",
    "4466\tZambia\t1999\t0.147053\tNaN\n",
    "\n",
    "4467\tZambia\t1998\t0.030226\tNaN"
   ]
  },
  {
   "cell_type": "code",
   "execution_count": null,
   "id": "b5212f6d",
   "metadata": {},
   "outputs": [],
   "source": [
    "#step 10\n",
    "# dropping a column from the database type 1\n",
    "gdp_df = gdp_df.drop('Value Footnotes', axis= 1)\n",
    "gdp_df.head()"
   ]
  },
  {
   "cell_type": "markdown",
   "id": "a69e25cd",
   "metadata": {},
   "source": [
    "Country or Area\tYear\tValue\n",
    "\n",
    "0\tAfghanistan\t2020\t1970.560169\n",
    "\n",
    "1\tAfghanistan\t2019\t2065.036235\n",
    "\n",
    "2\tAfghanistan\t2018\t2033.804389\n",
    "\n",
    "3\tAfghanistan\t2017\t2058.400221\n",
    "\n",
    "4\tAfghanistan\t2016\t2057.067978"
   ]
  },
  {
   "cell_type": "code",
   "execution_count": null,
   "id": "92579ed8",
   "metadata": {},
   "outputs": [],
   "source": [
    "#step 10\n",
    "# dropping a column from a database type 2\n",
    "internet_df = internet_df.drop(columns= ['Value Footnotes'])\n",
    "internet_df.head()"
   ]
  },
  {
   "cell_type": "markdown",
   "id": "e44df8eb",
   "metadata": {},
   "source": [
    "\tCountry or Area\tYear\tValue\n",
    "    \n",
    "0\tAfghanistan\t2014\t6.390000\n",
    "\n",
    "1\tAfghanistan\t2013\t5.900000\n",
    "\n",
    "2\tAfghanistan\t2012\t5.454545\n",
    "\n",
    "3\tAfghanistan\t2011\t5.000000\n",
    "\n",
    "4\tAfghanistan\t2010\t4.000000"
   ]
  },
  {
   "cell_type": "code",
   "execution_count": null,
   "id": "7e232aaa",
   "metadata": {},
   "outputs": [],
   "source": [
    "#step 11\n",
    "# rename the column names in a dataframe\n",
    "gdp_df.columns= ['Country', 'Year', 'GDP_Per_Capita']\n",
    "gdp_df.head()"
   ]
  },
  {
   "cell_type": "markdown",
   "id": "4d161a5c",
   "metadata": {},
   "source": [
    "Country\tYear\tGDP_Per_Capita\n",
    "\n",
    "0\tAfghanistan\t2020\t1970.560169\n",
    "\n",
    "1\tAfghanistan\t2019\t2065.036235\n",
    "\n",
    "2\tAfghanistan\t2018\t2033.804389\n",
    "\n",
    "3\tAfghanistan\t2017\t2058.400221\n",
    "\n",
    "4\tAfghanistan\t2016\t2057.067978"
   ]
  },
  {
   "cell_type": "code",
   "execution_count": null,
   "id": "efbf8a39",
   "metadata": {},
   "outputs": [],
   "source": [
    "#step 12\n",
    "# rename the column names in a dataframe\n",
    "internet_df.columns= ['Country', 'Year', 'Internet_Users_Pct']\n",
    "internet_df.head()"
   ]
  },
  {
   "cell_type": "markdown",
   "id": "9302744c",
   "metadata": {},
   "source": [
    "Country\tYear\tInternet_Users_Pct\n",
    "\n",
    "0\tAfghanistan\t2014\t6.390000\n",
    "\n",
    "1\tAfghanistan\t2013\t5.900000\n",
    "\n",
    "2\tAfghanistan\t2012\t5.454545\n",
    "\n",
    "3\tAfghanistan\t2011\t5.000000\n",
    "\n",
    "4\tAfghanistan\t2010\t4.000000"
   ]
  },
  {
   "cell_type": "code",
   "execution_count": null,
   "id": "ac761c43",
   "metadata": {},
   "outputs": [],
   "source": [
    "#step 13\n",
    "# merging two dataframes together with an inner join\n",
    "gdp_and_internet_use = pd.merge(gdp_df, internet_df,\n",
    "                                on= ['Country', 'Year'],\n",
    "                                how= 'inner')"
   ]
  },
  {
   "cell_type": "code",
   "execution_count": null,
   "id": "6211c59e",
   "metadata": {},
   "outputs": [],
   "source": [
    "#step 14\n",
    "# show first 5 rows\n",
    "gdp_and_internet_use.head()"
   ]
  },
  {
   "cell_type": "markdown",
   "id": "5c4ad119",
   "metadata": {},
   "source": [
    "Country\tYear\tGDP_Per_Capita\tInternet_Users_Pct\n",
    "\n",
    "0\tAfghanistan\t2014\t2102.384604\t6.390000\n",
    "\n",
    "1\tAfghanistan\t2013\t2116.465258\t5.900000\n",
    "\n",
    "2\tAfghanistan\t2012\t2075.491614\t5.454545\n",
    "\n",
    "3\tAfghanistan\t2011\t1904.559926\t5.000000\n",
    "\n",
    "4\tAfghanistan\t2010\t1957.029070\t4.000000"
   ]
  },
  {
   "cell_type": "code",
   "execution_count": null,
   "id": "072b2674",
   "metadata": {},
   "outputs": [],
   "source": [
    "#step 15\n",
    "# show last 5 rows\n",
    "gdp_and_internet_use.tail()"
   ]
  },
  {
   "cell_type": "markdown",
   "id": "bc917269",
   "metadata": {},
   "source": [
    "Country\tYear\tGDP_Per_Capita\tInternet_Users_Pct\n",
    "\n",
    "3383\tZambia\t2002\t2080.195690\t0.477751\n",
    "\n",
    "3384\tZambia\t2001\t2042.537498\t0.233130\n",
    "\n",
    "3385\tZambia\t2000\t1990.858991\t0.191072\n",
    "\n",
    "3386\tZambia\t1999\t1968.215220\t0.147053\n",
    "\n",
    "3387\tZambia\t1998\t1933.003767\t0.030226"
   ]
  },
  {
   "cell_type": "code",
   "execution_count": null,
   "id": "563433ea",
   "metadata": {},
   "outputs": [],
   "source": [
    "# looking at datatypes for a dataframe\n",
    "gdp_and_internet_use.dtypes"
   ]
  },
  {
   "cell_type": "code",
   "execution_count": null,
   "id": "7b60f55e",
   "metadata": {},
   "outputs": [],
   "source": [
    "#step 16\n",
    "# filtering out certain years in the dataframe\n",
    "gdp_and_internet_use = gdp_and_internet_use.loc[(gdp_and_internet_use.Year == '2004') | \n",
    "                                                (gdp_and_internet_use.Year == '2009') | \n",
    "                                                (gdp_and_internet_use.Year == '2014')]"
   ]
  },
  {
   "cell_type": "code",
   "execution_count": null,
   "id": "58d600ea",
   "metadata": {},
   "outputs": [],
   "source": []
  }
 ],
 "metadata": {
  "kernelspec": {
   "display_name": "Python 3 (ipykernel)",
   "language": "python",
   "name": "python3"
  },
  "language_info": {
   "codemirror_mode": {
    "name": "ipython",
    "version": 3
   },
   "file_extension": ".py",
   "mimetype": "text/x-python",
   "name": "python",
   "nbconvert_exporter": "python",
   "pygments_lexer": "ipython3",
   "version": "3.9.13"
  }
 },
 "nbformat": 4,
 "nbformat_minor": 5
}
